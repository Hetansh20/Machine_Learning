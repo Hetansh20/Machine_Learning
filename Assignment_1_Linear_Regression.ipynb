{
  "nbformat": 4,
  "nbformat_minor": 0,
  "metadata": {
    "colab": {
      "provenance": []
    },
    "kernelspec": {
      "name": "python3",
      "display_name": "Python 3"
    },
    "language_info": {
      "name": "python"
    }
  },
  "cells": [
    {
      "cell_type": "code",
      "execution_count": null,
      "metadata": {
        "id": "ejl8_vJkSlvI"
      },
      "outputs": [],
      "source": [
        "import numpy as np\n",
        "import pandas as pd\n",
        "from sklearn.ensemble import RandomForestClassifier\n",
        "from sklearn.model_selection import train_test_split\n",
        "from sklearn.metrics import accuracy_score, classification_report, confusion_matrix"
      ]
    },
    {
      "cell_type": "code",
      "source": [
        "#Generate Dummy Data\n",
        "np.random.seed(0)\n",
        "N = 50\n",
        "data = pd.DataFrame({\n",
        "    'area': np.random.randint(800, 3000, N),\n",
        "    'rooms': np.random.randint(1, 5, N),\n",
        "    'age': np.random.randint(1, 20, N),\n",
        "})"
      ],
      "metadata": {
        "id": "juCS4RSGUKio"
      },
      "execution_count": null,
      "outputs": []
    },
    {
      "cell_type": "code",
      "source": [
        "data['price'] = (\n",
        "    data['area'] * 200 +\n",
        "    data['rooms'] * 15000 -\n",
        "    data['age'] * 800 +\n",
        "    np.random.normal(0, 20000, N)\n",
        ")\n",
        "#Discretize Target (Regression Classification)\n",
        "bins = [0, 500_000, 900_000, np.inf]\n",
        "labels = [0, 1, 2]  # 0=low, 1=medium, 2=high\n",
        "data['price_class'] = pd.cut(data['price'], bins=bins, labels=labels).astype(int)"
      ],
      "metadata": {
        "id": "rw9hx2JJUXtf"
      },
      "execution_count": null,
      "outputs": []
    },
    {
      "cell_type": "code",
      "source": [
        "X = data[['area', 'rooms', 'age']]\n",
        "y = data['price_class']\n",
        "n_classes = len(y.unique())\n",
        "\n",
        "# Train/Test split (preserve indices)\n",
        "X_train, X_test, y_train, y_test = train_test_split(\n",
        "    X, y, test_size=0.2, random_state=42, stratify=y\n",
        ")\n",
        "\n",
        "# Convert to NumPy only for training math\n",
        "X_train_np = X_train.values\n",
        "y_train_np = y_train.values\n",
        "X_test_np = X_test.values\n",
        "y_test_np = y_test.values"
      ],
      "metadata": {
        "id": "RDSSjZkNUeB_"
      },
      "execution_count": null,
      "outputs": []
    },
    {
      "cell_type": "code",
      "source": [
        "def sigmoid(z):\n",
        "    return 1 / (1 + np.exp(-z))\n",
        "#Training (Gradient Descent for Each Class - One-vs-Rest)\n",
        "def train_one_vs_rest(X, y, n_classes, lr=1e-7, n_iter=10000):\n",
        "\n",
        "    n_samples, n_features = X.shape\n",
        "    weights = []\n",
        "    for k in range(n_classes):\n",
        "        # Binary labels for class k\n",
        "        yk = (y == k).astype(np.float64)\n",
        "        w = np.zeros(n_features)\n",
        "        b = 0.0\n",
        "        for _ in range(n_iter):\n",
        "            logits = np.dot(X, w) + b\n",
        "            y_pred = sigmoid(logits)\n",
        "            # Gradients\n",
        "            dw = np.dot(X.T, (y_pred - yk)) / n_samples\n",
        "            db = np.sum(y_pred - yk) / n_samples\n",
        "            # Update\n",
        "            w -= lr * dw\n",
        "            b -= lr * db\n",
        "        weights.append({'w': w, 'b': b})\n",
        "    return weights\n",
        "\n",
        "def predict(X, weights):\n",
        "    \"\"\"Predict class labels for given features\"\"\"\n",
        "    n_samples = X.shape[0]\n",
        "    n_classes = len(weights)\n",
        "    probs = np.zeros((n_samples, n_classes))\n",
        "    for k in range(n_classes):\n",
        "        w = weights[k]['w']\n",
        "        b = weights[k]['b']\n",
        "        logits = np.dot(X, w) + b\n",
        "        probs[:, k] = sigmoid(logits)\n",
        "    return np.argmax(probs, axis=1)"
      ],
      "metadata": {
        "id": "e1DRXTR_UzgN"
      },
      "execution_count": null,
      "outputs": []
    },
    {
      "cell_type": "code",
      "source": [
        "#Train from scratch\n",
        "weights = train_one_vs_rest(X_train, y_train, n_classes)\n"
      ],
      "metadata": {
        "id": "AtMlPcOLW2cn"
      },
      "execution_count": null,
      "outputs": []
    },
    {
      "cell_type": "code",
      "source": [
        "y_pred = predict(X_test, weights)\n",
        "print(\"Accuracy:\", accuracy_score(y_test, y_pred))\n",
        "print(\"\\nClassification Report:\\n\", classification_report(y_test, y_pred))\n",
        "print(\"\\nConfusion Matrix:\\n\", confusion_matrix(y_test, y_pred))\n"
      ],
      "metadata": {
        "colab": {
          "base_uri": "https://localhost:8080/"
        },
        "id": "128uJhYVaxEt",
        "outputId": "85d903ca-28be-4b62-b8d5-48e45caa1d87"
      },
      "execution_count": null,
      "outputs": [
        {
          "output_type": "stream",
          "name": "stdout",
          "text": [
            "Accuracy: 0.4\n",
            "\n",
            "Classification Report:\n",
            "               precision    recall  f1-score   support\n",
            "\n",
            "           0       0.00      0.00      0.00         6\n",
            "           1       0.40      1.00      0.57         4\n",
            "\n",
            "    accuracy                           0.40        10\n",
            "   macro avg       0.20      0.50      0.29        10\n",
            "weighted avg       0.16      0.40      0.23        10\n",
            "\n",
            "\n",
            "Confusion Matrix:\n",
            " [[0 6]\n",
            " [0 4]]\n"
          ]
        },
        {
          "output_type": "stream",
          "name": "stderr",
          "text": [
            "/usr/local/lib/python3.11/dist-packages/sklearn/metrics/_classification.py:1565: UndefinedMetricWarning: Precision is ill-defined and being set to 0.0 in labels with no predicted samples. Use `zero_division` parameter to control this behavior.\n",
            "  _warn_prf(average, modifier, f\"{metric.capitalize()} is\", len(result))\n",
            "/usr/local/lib/python3.11/dist-packages/sklearn/metrics/_classification.py:1565: UndefinedMetricWarning: Precision is ill-defined and being set to 0.0 in labels with no predicted samples. Use `zero_division` parameter to control this behavior.\n",
            "  _warn_prf(average, modifier, f\"{metric.capitalize()} is\", len(result))\n",
            "/usr/local/lib/python3.11/dist-packages/sklearn/metrics/_classification.py:1565: UndefinedMetricWarning: Precision is ill-defined and being set to 0.0 in labels with no predicted samples. Use `zero_division` parameter to control this behavior.\n",
            "  _warn_prf(average, modifier, f\"{metric.capitalize()} is\", len(result))\n"
          ]
        }
      ]
    },
    {
      "cell_type": "code",
      "source": [
        "\n",
        "\n",
        "# 6. Sample Predictions Table (with correct true_price)\n",
        "results = X_test.copy()\n",
        "results['true_price'] = data.loc[X_test.index, 'price']\n",
        "results['true_class'] = y_test\n",
        "results['pred_class'] = y_pred\n",
        "print(results.head())\n",
        "\n",
        "\n",
        "#Class distribution\n",
        "\n",
        "print(\"\\nClass distribution:\")\n",
        "print(data['price_class'].value_counts())"
      ],
      "metadata": {
        "colab": {
          "base_uri": "https://localhost:8080/"
        },
        "id": "G1QmyiNvclZ6",
        "outputId": "2e75081c-d964-4caf-8449-667e7d4f311b"
      },
      "execution_count": null,
      "outputs": [
        {
          "output_type": "stream",
          "name": "stdout",
          "text": [
            "    area  rooms  age     true_price  true_class  pred_class\n",
            "16  1555      3    9  379284.536255           0           1\n",
            "36  1556      1    3  284985.686480           0           1\n",
            "22  1597      1    7  309518.732823           0           1\n",
            "26  1344      4   14  305883.696352           0           1\n",
            "15  1776      4   12  370738.835382           0           1\n",
            "\n",
            "Class distribution:\n",
            "price_class\n",
            "0    28\n",
            "1    22\n",
            "Name: count, dtype: int64\n"
          ]
        }
      ]
    },
    {
      "cell_type": "code",
      "source": [],
      "metadata": {
        "id": "6MAVyyHDcvpI"
      },
      "execution_count": null,
      "outputs": []
    }
  ]
}